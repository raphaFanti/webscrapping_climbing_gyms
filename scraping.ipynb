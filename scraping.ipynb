{
 "cells": [
  {
   "cell_type": "markdown",
   "metadata": {},
   "source": [
    "# scrapping gyms\n",
    "\n",
    "from https://www.indoorclimbing.com/\n",
    "\n",
    "## locations on landing page\n",
    "\n",
    "the landing page has a list of places per region which, given the size, made more sense to list directly into a text file\n",
    "\n",
    "let's open that file and apply some logic learned by seeing some urls (lower cases, removing spaces, removing special characters)"
   ]
  },
  {
   "cell_type": "code",
   "execution_count": 1,
   "metadata": {},
   "outputs": [],
   "source": [
    "places = []\n",
    "\n",
    "with open(\"places_list.txt\") as f:\n",
    "    for line in f:\n",
    "        places.append(line[:-1])"
   ]
  },
  {
   "cell_type": "code",
   "execution_count": 2,
   "metadata": {},
   "outputs": [
    {
     "name": "stdout",
     "output_type": "stream",
     "text": [
      "['alberta', 'britishcolumbia', 'manitoba', 'ontario', 'quebec', 'saskatchewan', 'newbrunswick', 'newfoundland', 'novascotia', 'alabama']\n"
     ]
    }
   ],
   "source": [
    "places = [i.lower() for i in places]\n",
    "places = [i.replace(\" \",\"\") for i in places]\n",
    "places = [i.replace(\".\",\"\") for i in places]\n",
    "print(places[0:10])"
   ]
  },
  {
   "cell_type": "markdown",
   "metadata": {},
   "source": [
    "## unit scrapping\n",
    "\n",
    "let's get the page contents, create a beautiful soup out of it, and look inside.\n",
    "\n",
    "we have noticed that the cities in pages are of the class \"city\", which allows us to get them and then select the gyms inside, always inside a p tag and with the name in bold"
   ]
  },
  {
   "cell_type": "code",
   "execution_count": 71,
   "metadata": {
    "scrolled": true
   },
   "outputs": [
    {
     "name": "stdout",
     "output_type": "stream",
     "text": [
      "1981\n"
     ]
    }
   ],
   "source": [
    "import requests\n",
    "from bs4 import BeautifulSoup\n",
    "\n",
    "base_url = \"https://www.indoorclimbing.com/\"\n",
    "\n",
    "gyms_list = []\n",
    "\n",
    "for place in places:\n",
    "    url = base_url + place + \".html\"\n",
    "    r = requests.get(url)\n",
    "    \n",
    "    soup = BeautifulSoup(r.content, \"html.parser\")\n",
    "    gyms = soup.find_all(\"p\")\n",
    "    \n",
    "    for gym in gyms:\n",
    "        try:\n",
    "            gym_name = gym.b.string\n",
    "            address = gym.contents[2].strip()\n",
    "        except:\n",
    "            break\n",
    "        \n",
    "        try:\n",
    "            phone = gym.contents[4].strip()\n",
    "        except:\n",
    "            phone = \"\"\n",
    "\n",
    "        try:\n",
    "            url = gym.contents[7].get(\"href\")\n",
    "        except:\n",
    "            url = \"\"\n",
    "        try:\n",
    "            if len(gym.contents) > 8:\n",
    "                descr = gym.contents[10].next.string\n",
    "            else:\n",
    "                descr = \"\"\n",
    "        except:\n",
    "            descr = \"\"\n",
    "        \n",
    "        gyms_list.append([gym_name, address, phone, url, descr])\n",
    "\n",
    "print(len(gyms_list))\n",
    "\n",
    "    "
   ]
  },
  {
   "cell_type": "code",
   "execution_count": 3,
   "metadata": {},
   "outputs": [
    {
     "ename": "NameError",
     "evalue": "name 'gyms_list' is not defined",
     "output_type": "error",
     "traceback": [
      "\u001b[0;31m---------------------------------------------------------------------------\u001b[0m",
      "\u001b[0;31mNameError\u001b[0m                                 Traceback (most recent call last)",
      "\u001b[0;32m<ipython-input-3-72023c68a0b4>\u001b[0m in \u001b[0;36m<module>\u001b[0;34m\u001b[0m\n\u001b[0;32m----> 1\u001b[0;31m \u001b[0mprint\u001b[0m\u001b[0;34m(\u001b[0m\u001b[0mgyms_list\u001b[0m\u001b[0;34m[\u001b[0m\u001b[0;36m0\u001b[0m\u001b[0;34m:\u001b[0m\u001b[0;36m10\u001b[0m\u001b[0;34m]\u001b[0m\u001b[0;34m)\u001b[0m\u001b[0;34m\u001b[0m\u001b[0;34m\u001b[0m\u001b[0m\n\u001b[0m",
      "\u001b[0;31mNameError\u001b[0m: name 'gyms_list' is not defined"
     ]
    }
   ],
   "source": [
    "print(gyms_list[0:10])"
   ]
  },
  {
   "cell_type": "code",
   "execution_count": 77,
   "metadata": {},
   "outputs": [
    {
     "name": "stdout",
     "output_type": "stream",
     "text": [
      "                                       gym  \\\n",
      "0      Sally Borden Fitness and Recreation   \n",
      "1           Calgary Climbing Centre Hanger   \n",
      "2                      Lycée Climbing Wall   \n",
      "3                      Mount Royal College   \n",
      "4     Odyssey Recreational Adventures Ltd.   \n",
      "...                                    ...   \n",
      "1976                    Friends and Allies   \n",
      "1977                 HangTime Climbing Gym   \n",
      "1978                 HangTime Climbing Gym   \n",
      "1979                 Blue Sky Climbing Gym   \n",
      "1980                        Climbing Tower   \n",
      "\n",
      "                                                address            phone  \\\n",
      "0     107 Tunnel Mountain Dr, Banff, AB T1L 1H5, Canada   (403) 762-6450   \n",
      "1            106- 588 Aero Dr. NE., Calgary, AB T2E 7Y4     587-230-0189   \n",
      "2     4099 Garrison Blvd SW, Calgary, AB T2T 6G2, Ca...   (403) 243-5420   \n",
      "3     4825 Mount Royal Gate SW, Calgary, Alberta Canada   (403) 440-6348   \n",
      "4     1715 - 20 Ave NW, Calgary, Alberta T2M 1H2 Canada   (403) 247-9773   \n",
      "...                                                 ...              ...   \n",
      "1976          10 Naaf Street, Strydompark, Johannesburg  +27 66 506 0828   \n",
      "1977  Sunrise Park; Sunrise Circle; Pinelands; Cape ...       0844445466   \n",
      "1978  Sunrise Park; Sunrise Circle; Pinelands; Cape ...       0844445466   \n",
      "1979           Diamond Plaza; Parklands, Nairobi, Kenya  +254 792 790087   \n",
      "1980              SFC Sports Cente, Swakopmund, Namibia                    \n",
      "\n",
      "                                                    url  \\\n",
      "0     https://www.banffcentre.ca/sally-borden-fitnes...   \n",
      "1                           http://calgaryclimbing.com/   \n",
      "2     https://lycee.ca/wp-content/uploads/2020/03/Fa...   \n",
      "3     https://mrucougars.com/sports/2019/7/23/start-...   \n",
      "4                          http://www.oradventures.com/   \n",
      "...                                                 ...   \n",
      "1976                    https://friendsandallies.co.za/   \n",
      "1977                        https://www.hangtime.co.za/   \n",
      "1978                        https://www.hangtime.co.za/   \n",
      "1979                 https://www.blueskykenya.org/climb   \n",
      "1980                                                      \n",
      "\n",
      "                                            description  \n",
      "0                                                        \n",
      "1      The newest of the Calgary Climbing Centres. T...  \n",
      "2      36 ft tall climbing surface, 10 top ropes, si...  \n",
      "3      43 feet tall, 18 ropes + lead area, rappel to...  \n",
      "4                  Odyssey Recreational Adventures Ltd.  \n",
      "...                                                 ...  \n",
      "1976   The grooviest gym in the city. Pop in for som...  \n",
      "1977   Indoor and outdoor walls, top-rope and lead, ...  \n",
      "1978   Indoor and outdoor walls, top-rope and lead, ...  \n",
      "1979   Indoor rock climbing area located at the Diam...  \n",
      "1980                                                     \n",
      "\n",
      "[1981 rows x 5 columns]\n"
     ]
    }
   ],
   "source": [
    "import pandas as pd\n",
    "\n",
    "df = pd.DataFrame(gyms_list, columns = [\"gym\", \"address\", \"phone\", \"url\", 'description'])\n",
    "\n",
    "print(df)\n",
    "\n",
    "df.to_csv(\"indoorclimbing.csv\")"
   ]
  },
  {
   "cell_type": "code",
   "execution_count": null,
   "metadata": {},
   "outputs": [],
   "source": []
  }
 ],
 "metadata": {
  "kernelspec": {
   "display_name": "Python 3",
   "language": "python",
   "name": "python3"
  },
  "language_info": {
   "codemirror_mode": {
    "name": "ipython",
    "version": 3
   },
   "file_extension": ".py",
   "mimetype": "text/x-python",
   "name": "python",
   "nbconvert_exporter": "python",
   "pygments_lexer": "ipython3",
   "version": "3.8.6"
  }
 },
 "nbformat": 4,
 "nbformat_minor": 4
}
